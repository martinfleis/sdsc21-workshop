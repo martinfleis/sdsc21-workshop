{
 "cells": [
  {
   "cell_type": "markdown",
   "metadata": {
    "slideshow": {
     "slide_type": "notes"
    },
    "tags": []
   },
   "source": [
    "# Title\n",
    "- working with different elements\n",
    "    - buildings\n",
    "        - fetching buildings from OSM\n",
    "        - minor cleaning of buildings (geom type, valid geoms)\n",
    "    - streets\n",
    "        - fetching from OSM\n",
    "        - preprocessing\n",
    "    - tessellation\n",
    "        - what and how\n",
    "    - blocks\n",
    "        - what and how\n",
    "\n",
    "- measuring different things\n",
    "    - dimensions\n",
    "    - shapes\n",
    "    - spatial distribution\n",
    "    - intensity\n",
    "    - connectivity\n",
    "        - on nodes\n",
    "        - on edges\n",
    "    - diversity\n",
    "\n",
    "- linking together\n",
    "\n",
    "- understanding the context\n",
    "- clustering\n",
    "- maybe comparison if there's time"
   ]
  },
  {
   "cell_type": "code",
   "execution_count": null,
   "metadata": {
    "slideshow": {
     "slide_type": "skip"
    },
    "tags": []
   },
   "outputs": [],
   "source": [
    "import warnings\n",
    "\n",
    "import libpysal\n",
    "import momepy\n",
    "import osmnx\n",
    "import pandas\n",
    "\n",
    "from clustergram import Clustergram\n",
    "\n",
    "from bokeh.io import output_notebook\n",
    "from bokeh.plotting import show\n",
    "\n",
    "output_notebook()\n",
    "\n",
    "warnings.filterwarnings('ignore', message='.*overflow encountered*')\n",
    "warnings.filterwarnings('ignore', message='GeoSeries.isna')\n",
    "warnings.filterwarnings('ignore', message='.*index_parts defaults to True')\n",
    "warnings.filterwarnings('ignore', message='.*`op` parameter is deprecated*')"
   ]
  },
  {
   "cell_type": "code",
   "execution_count": null,
   "metadata": {
    "slideshow": {
     "slide_type": "slide"
    },
    "tags": []
   },
   "outputs": [],
   "source": [
    "place = 'Znojmo, Czechia'\n",
    "local_crs = 5514"
   ]
  },
  {
   "cell_type": "markdown",
   "metadata": {
    "slideshow": {
     "slide_type": "slide"
    }
   },
   "source": [
    "## Elements\n",
    "### Buildings"
   ]
  },
  {
   "cell_type": "code",
   "execution_count": null,
   "metadata": {
    "slideshow": {
     "slide_type": "subslide"
    },
    "tags": []
   },
   "outputs": [],
   "source": [
    "buildings = osmnx.geometries.geometries_from_place(place, tags={'building':True})"
   ]
  },
  {
   "cell_type": "code",
   "execution_count": null,
   "metadata": {
    "slideshow": {
     "slide_type": "fragment"
    },
    "tags": []
   },
   "outputs": [],
   "source": [
    "buildings = buildings[[\"geometry\"]].to_crs(local_crs)"
   ]
  },
  {
   "cell_type": "code",
   "execution_count": null,
   "metadata": {
    "slideshow": {
     "slide_type": "fragment"
    },
    "tags": []
   },
   "outputs": [],
   "source": [
    "buildings.is_valid.all()"
   ]
  },
  {
   "cell_type": "code",
   "execution_count": null,
   "metadata": {
    "slideshow": {
     "slide_type": "fragment"
    }
   },
   "outputs": [],
   "source": [
    "buildings = buildings.explode(ignore_index=True)"
   ]
  },
  {
   "cell_type": "code",
   "execution_count": null,
   "metadata": {
    "slideshow": {
     "slide_type": "fragment"
    }
   },
   "outputs": [],
   "source": [
    "buildings[\"uID\"] = range(len(buildings))"
   ]
  },
  {
   "cell_type": "markdown",
   "metadata": {
    "slideshow": {
     "slide_type": "subslide"
    }
   },
   "source": [
    "### Streets"
   ]
  },
  {
   "cell_type": "code",
   "execution_count": null,
   "metadata": {
    "slideshow": {
     "slide_type": "subslide"
    }
   },
   "outputs": [],
   "source": [
    "osm_graph = osmnx.graph_from_place(place, network_type='drive')\n",
    "# TODO: check if 'drive' is the optimal type for the chosen case study"
   ]
  },
  {
   "cell_type": "code",
   "execution_count": null,
   "metadata": {
    "slideshow": {
     "slide_type": "fragment"
    }
   },
   "outputs": [],
   "source": [
    "osm_graph = osmnx.projection.project_graph(osm_graph, to_crs=local_crs)\n"
   ]
  },
  {
   "cell_type": "code",
   "execution_count": null,
   "metadata": {
    "slideshow": {
     "slide_type": "fragment"
    }
   },
   "outputs": [],
   "source": [
    "streets = osmnx.graph_to_gdfs(\n",
    "    osm_graph, \n",
    "    nodes=False, \n",
    "    edges=True,\n",
    "    node_geometry=False, \n",
    "    fill_edge_geometry=True\n",
    ")"
   ]
  },
  {
   "cell_type": "code",
   "execution_count": null,
   "metadata": {
    "slideshow": {
     "slide_type": "fragment"
    }
   },
   "outputs": [],
   "source": [
    "streets = momepy.remove_false_nodes(streets)\n",
    "streets = streets[[\"geometry\"]]"
   ]
  },
  {
   "cell_type": "markdown",
   "metadata": {
    "slideshow": {
     "slide_type": "subslide"
    }
   },
   "source": [
    "### Tessellation"
   ]
  },
  {
   "cell_type": "code",
   "execution_count": null,
   "metadata": {
    "slideshow": {
     "slide_type": "subslide"
    }
   },
   "outputs": [],
   "source": [
    "limit = momepy.buffered_limit(buildings, 100)\n",
    "\n",
    "tessellation = momepy.Tessellation(buildings, \"uID\", limit, verbose=False)\n",
    "tessellation = tessellation.tessellation"
   ]
  },
  {
   "cell_type": "markdown",
   "metadata": {
    "slideshow": {
     "slide_type": "subslide"
    }
   },
   "source": [
    "### Link streets"
   ]
  },
  {
   "cell_type": "code",
   "execution_count": null,
   "metadata": {
    "slideshow": {
     "slide_type": "subslide"
    }
   },
   "outputs": [],
   "source": [
    "streets[\"nID\"] = range(len(streets))\n",
    "buildings['nID'] = momepy.get_network_id(buildings, streets, 'nID', min_size=300, verbose=False)\n",
    "tessellation = tessellation.merge(buildings[['uID', 'nID']], on='uID', how='left')"
   ]
  },
  {
   "cell_type": "markdown",
   "metadata": {
    "slideshow": {
     "slide_type": "slide"
    }
   },
   "source": [
    "## Measure\n",
    "\n",
    "### Dimensions"
   ]
  },
  {
   "cell_type": "code",
   "execution_count": null,
   "metadata": {
    "slideshow": {
     "slide_type": "subslide"
    }
   },
   "outputs": [],
   "source": [
    "buildings[\"area\"] = buildings.area\n",
    "tessellation[\"area\"] = tessellation.area\n",
    "streets[\"length\"] = streets.length"
   ]
  },
  {
   "cell_type": "markdown",
   "metadata": {
    "slideshow": {
     "slide_type": "subslide"
    }
   },
   "source": [
    "### Shape"
   ]
  },
  {
   "cell_type": "code",
   "execution_count": null,
   "metadata": {
    "slideshow": {
     "slide_type": "subslide"
    }
   },
   "outputs": [],
   "source": [
    "buildings['eri'] = momepy.EquivalentRectangularIndex(buildings).series"
   ]
  },
  {
   "cell_type": "code",
   "execution_count": null,
   "metadata": {
    "slideshow": {
     "slide_type": "fragment"
    }
   },
   "outputs": [],
   "source": [
    "buildings['elongation'] = momepy.Elongation(buildings).series\n",
    "tessellation['convexity'] = momepy.Convexity(tessellation).series"
   ]
  },
  {
   "cell_type": "code",
   "execution_count": null,
   "metadata": {
    "slideshow": {
     "slide_type": "fragment"
    }
   },
   "outputs": [],
   "source": [
    "streets[\"linearity\"] = momepy.Linearity(streets).series"
   ]
  },
  {
   "cell_type": "markdown",
   "metadata": {
    "slideshow": {
     "slide_type": "subslide"
    }
   },
   "source": [
    "### Spatial distribution"
   ]
  },
  {
   "cell_type": "code",
   "execution_count": null,
   "metadata": {
    "slideshow": {
     "slide_type": "subslide"
    }
   },
   "outputs": [],
   "source": [
    "buildings['stbOri'] = momepy.Orientation(buildings, verbose=False).series\n",
    " \n",
    "tessellation['stcOri'] = momepy.Orientation(tessellation, verbose=False).series\n",
    "buildings['stbCeA'] = momepy.CellAlignment(buildings, tessellation, 'stbOri', 'stcOri', 'uID', 'uID').series"
   ]
  },
  {
   "cell_type": "code",
   "execution_count": null,
   "metadata": {
    "slideshow": {
     "slide_type": "subslide"
    }
   },
   "outputs": [],
   "source": [
    "buildings[\"mtbSWR\"] = momepy.SharedWallsRatio(buildings).series"
   ]
  },
  {
   "cell_type": "code",
   "execution_count": null,
   "metadata": {
    "slideshow": {
     "slide_type": "subslide"
    }
   },
   "outputs": [],
   "source": [
    "queen_1 = libpysal.weights.contiguity.Queen.from_dataframe(tessellation, ids=\"uID\", silence_warnings=True)"
   ]
  },
  {
   "cell_type": "code",
   "execution_count": null,
   "metadata": {
    "collapsed": true,
    "jupyter": {
     "outputs_hidden": true
    },
    "slideshow": {
     "slide_type": "subslide"
    },
    "tags": []
   },
   "outputs": [],
   "source": [
    "buildings[\"mtbAli\"] = momepy.Alignment(buildings, queen_1, \"uID\", \"stbOri\", verbose=False).series\n",
    "buildings[\"mtbNDi\"] = momepy.NeighborDistance(buildings, queen_1, \"uID\", verbose=False).series\n",
    "tessellation[\"mtcWNe\"] = momepy.Neighbors(tessellation, queen_1, \"uID\", weighted=True, verbose=False).series\n",
    "tessellation[\"mdcAre\"] = momepy.CoveredArea(tessellation, queen_1, \"uID\", verbose=False).series"
   ]
  },
  {
   "cell_type": "code",
   "execution_count": null,
   "metadata": {
    "slideshow": {
     "slide_type": "subslide"
    }
   },
   "outputs": [],
   "source": [
    "buildings_q1 = libpysal.weights.contiguity.Queen.from_dataframe(buildings, silence_warnings=True)"
   ]
  },
  {
   "cell_type": "code",
   "execution_count": null,
   "metadata": {
    "slideshow": {
     "slide_type": "subslide"
    }
   },
   "outputs": [],
   "source": [
    "queen_3 = momepy.sw_high(k=3, weights=queen_1)\n",
    "\n",
    "buildings['ltbIBD'] = momepy.MeanInterbuildingDistance(buildings, queen_1, 'uID', queen_3, verbose=False).series\n",
    "buildings['ltcBuA'] = momepy.BuildingAdjacency(buildings, queen_3, 'uID', buildings_q1, verbose=False).series"
   ]
  },
  {
   "cell_type": "code",
   "execution_count": null,
   "metadata": {
    "slideshow": {
     "slide_type": "subslide"
    }
   },
   "outputs": [],
   "source": [
    "profile = momepy.StreetProfile(streets, buildings)\n",
    "streets[\"width\"] = profile.w\n",
    "streets[\"width_deviation\"] = profile.wd\n",
    "streets[\"openness\"] = profile.o"
   ]
  },
  {
   "cell_type": "markdown",
   "metadata": {
    "slideshow": {
     "slide_type": "subslide"
    }
   },
   "source": [
    "### Intensity"
   ]
  },
  {
   "cell_type": "code",
   "execution_count": null,
   "metadata": {
    "slideshow": {
     "slide_type": "subslide"
    }
   },
   "outputs": [],
   "source": [
    "tessellation['sicCAR'] = momepy.AreaRatio(tessellation, buildings, 'area', 'area', 'uID').series"
   ]
  },
  {
   "cell_type": "markdown",
   "metadata": {
    "slideshow": {
     "slide_type": "subslide"
    }
   },
   "source": [
    "### Connectivity"
   ]
  },
  {
   "cell_type": "code",
   "execution_count": null,
   "metadata": {
    "slideshow": {
     "slide_type": "subslide"
    }
   },
   "outputs": [],
   "source": [
    "graph = momepy.gdf_to_nx(streets)\n",
    "graph = momepy.node_degree(graph)\n",
    "graph = momepy.closeness_centrality(graph, radius=400, distance=\"mm_len\")\n",
    "graph = momepy.meshedness(graph, radius=400, distance=\"mm_len\")"
   ]
  },
  {
   "cell_type": "code",
   "execution_count": null,
   "metadata": {
    "slideshow": {
     "slide_type": "subslide"
    }
   },
   "outputs": [],
   "source": [
    "nodes, streets = momepy.nx_to_gdf(graph)"
   ]
  },
  {
   "cell_type": "code",
   "execution_count": null,
   "metadata": {
    "slideshow": {
     "slide_type": "subslide"
    }
   },
   "outputs": [],
   "source": [
    "buildings[\"nodeID\"] = momepy.get_node_id(buildings, nodes, streets, \"nodeID\", \"nID\")"
   ]
  },
  {
   "cell_type": "code",
   "execution_count": null,
   "metadata": {
    "slideshow": {
     "slide_type": "subslide"
    }
   },
   "outputs": [],
   "source": [
    "merged = tessellation.merge(buildings.drop(columns=['nID', 'geometry']), on='uID')\n",
    "merged = merged.merge(streets.drop(columns='geometry'), on='nID', how='left')\n",
    "merged = merged.merge(nodes.drop(columns='geometry'), on='nodeID', how='left')"
   ]
  },
  {
   "cell_type": "code",
   "execution_count": null,
   "metadata": {
    "slideshow": {
     "slide_type": "subslide"
    }
   },
   "outputs": [],
   "source": [
    "merged.columns"
   ]
  },
  {
   "cell_type": "markdown",
   "metadata": {
    "slideshow": {
     "slide_type": "slide"
    }
   },
   "source": [
    "## Understanding the context"
   ]
  },
  {
   "cell_type": "code",
   "execution_count": null,
   "metadata": {
    "scrolled": true,
    "slideshow": {
     "slide_type": "subslide"
    }
   },
   "outputs": [],
   "source": [
    "percentiles = []\n",
    "for column in merged.columns.drop([\"uID\", \"nodeID\", \"nID\", 'mm_len', 'node_start', 'node_end', \"geometry\"]):\n",
    "    perc = momepy.Percentiles(merged, column, queen_3, \"uID\", verbose=False).frame\n",
    "    perc.columns = [f\"{column}_\" + str(x) for x in perc.columns]\n",
    "    percentiles.append(perc)"
   ]
  },
  {
   "cell_type": "code",
   "execution_count": null,
   "metadata": {
    "slideshow": {
     "slide_type": "subslide"
    }
   },
   "outputs": [],
   "source": [
    "percentiles_joined = pandas.concat(percentiles, axis=1)"
   ]
  },
  {
   "cell_type": "code",
   "execution_count": null,
   "metadata": {
    "slideshow": {
     "slide_type": "fragment"
    }
   },
   "outputs": [],
   "source": [
    "percentiles_joined"
   ]
  },
  {
   "cell_type": "code",
   "execution_count": null,
   "metadata": {
    "slideshow": {
     "slide_type": "subslide"
    }
   },
   "outputs": [],
   "source": [
    "standardized = (percentiles_joined - percentiles_joined.mean()) / percentiles_joined.std()"
   ]
  },
  {
   "cell_type": "code",
   "execution_count": null,
   "metadata": {
    "slideshow": {
     "slide_type": "fragment"
    }
   },
   "outputs": [],
   "source": [
    "standardized"
   ]
  },
  {
   "cell_type": "code",
   "execution_count": null,
   "metadata": {
    "slideshow": {
     "slide_type": "subslide"
    }
   },
   "outputs": [],
   "source": [
    "cgram = Clustergram(range(1, 12), n_init=10)\n",
    "cgram.fit(standardized.fillna(0))"
   ]
  },
  {
   "cell_type": "code",
   "execution_count": null,
   "metadata": {
    "slideshow": {
     "slide_type": "subslide"
    }
   },
   "outputs": [],
   "source": [
    "show(cgram.bokeh())"
   ]
  },
  {
   "cell_type": "code",
   "execution_count": null,
   "metadata": {
    "slideshow": {
     "slide_type": "subslide"
    }
   },
   "outputs": [],
   "source": [
    "show(cgram.bokeh(pca_weighted=False))"
   ]
  },
  {
   "cell_type": "code",
   "execution_count": null,
   "metadata": {
    "slideshow": {
     "slide_type": "subslide"
    }
   },
   "outputs": [],
   "source": [
    "merged[\"cluster\"] = cgram.labels[8].values"
   ]
  },
  {
   "cell_type": "code",
   "execution_count": null,
   "metadata": {
    "slideshow": {
     "slide_type": "fragment"
    }
   },
   "outputs": [],
   "source": [
    "buildings = buildings.drop(columns=[col for col in buildings.columns if \"cluster\" in col]).merge(merged[[\"uID\", \"cluster\"]], on=\"uID\")"
   ]
  },
  {
   "cell_type": "code",
   "execution_count": null,
   "metadata": {
    "slideshow": {
     "slide_type": "subslide"
    }
   },
   "outputs": [],
   "source": [
    "buildings.plot(\"cluster\", categorical=True, figsize=(20, 20))"
   ]
  },
  {
   "cell_type": "code",
   "execution_count": null,
   "metadata": {
    "slideshow": {
     "slide_type": "subslide"
    }
   },
   "outputs": [],
   "source": [
    "buildings.explore(\"cluster\", categorical=True, prefer_canvas=True, tiles=\"CartoDB Positron\", tooltip=False)"
   ]
  },
  {
   "cell_type": "code",
   "execution_count": null,
   "metadata": {
    "slideshow": {
     "slide_type": "subslide"
    }
   },
   "outputs": [],
   "source": []
  }
 ],
 "metadata": {
  "celltoolbar": "Slideshow",
  "interpreter": {
   "hash": "de56e5cb74f9426dc9ec6649733c29254b2e1cd09274afbc2888ce7f3da25176"
  },
  "kernelspec": {
   "display_name": "stable",
   "language": "python",
   "name": "stable"
  },
  "language_info": {
   "codemirror_mode": {
    "name": "ipython",
    "version": 3
   },
   "file_extension": ".py",
   "mimetype": "text/x-python",
   "name": "python",
   "nbconvert_exporter": "python",
   "pygments_lexer": "ipython3",
   "version": "3.9.6"
  }
 },
 "nbformat": 4,
 "nbformat_minor": 4
}
